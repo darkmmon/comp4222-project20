{
 "cells": [
  {
   "cell_type": "code",
   "execution_count": 29,
   "metadata": {},
   "outputs": [],
   "source": [
    "import pandas as pd\n",
    "import torch"
   ]
  },
  {
   "cell_type": "code",
   "execution_count": 30,
   "metadata": {},
   "outputs": [
    {
     "ename": "KeyboardInterrupt",
     "evalue": "",
     "output_type": "error",
     "traceback": [
      "\u001b[1;31m---------------------------------------------------------------------------\u001b[0m",
      "\u001b[1;31mKeyboardInterrupt\u001b[0m                         Traceback (most recent call last)",
      "Cell \u001b[1;32mIn[30], line 6\u001b[0m\n\u001b[0;32m      3\u001b[0m all_txt_str \u001b[38;5;241m=\u001b[39m f\u001b[38;5;241m.\u001b[39mread()\u001b[38;5;241m.\u001b[39msplit(\u001b[38;5;124m\"\u001b[39m\u001b[38;5;130;01m\\n\u001b[39;00m\u001b[38;5;124m\"\u001b[39m)\n\u001b[0;32m      5\u001b[0m \u001b[38;5;66;03m# remove first 4 lines meta information\u001b[39;00m\n\u001b[1;32m----> 6\u001b[0m txt_list \u001b[38;5;241m=\u001b[39m [txt_str\u001b[38;5;241m.\u001b[39msplit(\u001b[38;5;124m\"\u001b[39m\u001b[38;5;130;01m\\t\u001b[39;00m\u001b[38;5;124m\"\u001b[39m) \u001b[38;5;28;01mfor\u001b[39;00m txt_str \u001b[38;5;129;01min\u001b[39;00m all_txt_str[\u001b[38;5;241m4\u001b[39m:]]\n\u001b[0;32m      7\u001b[0m edge_df \u001b[38;5;241m=\u001b[39m pd\u001b[38;5;241m.\u001b[39mDataFrame(txt_list, columns\u001b[38;5;241m=\u001b[39m[\u001b[38;5;124m\"\u001b[39m\u001b[38;5;124mFromNodeId\u001b[39m\u001b[38;5;124m\"\u001b[39m,\u001b[38;5;124m\"\u001b[39m\u001b[38;5;124mToNodeId\u001b[39m\u001b[38;5;124m\"\u001b[39m,\u001b[38;5;124m\"\u001b[39m\u001b[38;5;124mSign\u001b[39m\u001b[38;5;124m\"\u001b[39m])\n",
      "Cell \u001b[1;32mIn[30], line 6\u001b[0m, in \u001b[0;36m<listcomp>\u001b[1;34m(.0)\u001b[0m\n\u001b[0;32m      3\u001b[0m all_txt_str \u001b[38;5;241m=\u001b[39m f\u001b[38;5;241m.\u001b[39mread()\u001b[38;5;241m.\u001b[39msplit(\u001b[38;5;124m\"\u001b[39m\u001b[38;5;130;01m\\n\u001b[39;00m\u001b[38;5;124m\"\u001b[39m)\n\u001b[0;32m      5\u001b[0m \u001b[38;5;66;03m# remove first 4 lines meta information\u001b[39;00m\n\u001b[1;32m----> 6\u001b[0m txt_list \u001b[38;5;241m=\u001b[39m [txt_str\u001b[38;5;241m.\u001b[39msplit(\u001b[38;5;124m\"\u001b[39m\u001b[38;5;130;01m\\t\u001b[39;00m\u001b[38;5;124m\"\u001b[39m) \u001b[38;5;28;01mfor\u001b[39;00m txt_str \u001b[38;5;129;01min\u001b[39;00m all_txt_str[\u001b[38;5;241m4\u001b[39m:]]\n\u001b[0;32m      7\u001b[0m edge_df \u001b[38;5;241m=\u001b[39m pd\u001b[38;5;241m.\u001b[39mDataFrame(txt_list, columns\u001b[38;5;241m=\u001b[39m[\u001b[38;5;124m\"\u001b[39m\u001b[38;5;124mFromNodeId\u001b[39m\u001b[38;5;124m\"\u001b[39m,\u001b[38;5;124m\"\u001b[39m\u001b[38;5;124mToNodeId\u001b[39m\u001b[38;5;124m\"\u001b[39m,\u001b[38;5;124m\"\u001b[39m\u001b[38;5;124mSign\u001b[39m\u001b[38;5;124m\"\u001b[39m])\n",
      "\u001b[1;31mKeyboardInterrupt\u001b[0m: "
     ]
    }
   ],
   "source": [
    "data_path = \"data/soc-sign-epinions.txt\"\n",
    "with open(data_path, \"r\") as f:\n",
    "    all_txt_str = f.read().split(\"\\n\")\n",
    "\n",
    "    # remove first 4 lines meta information\n",
    "    txt_list = [txt_str.split(\"\\t\") for txt_str in all_txt_str[4:]]\n",
    "    edge_df = pd.DataFrame(txt_list, columns=[\"FromNodeId\",\"ToNodeId\",\"Sign\"])"
   ]
  },
  {
   "cell_type": "code",
   "execution_count": null,
   "metadata": {},
   "outputs": [],
   "source": [
    "# preprocessing of data\n",
    "edge_df = edge_df.dropna()\n",
    "edge_df[\"FromNodeId\"] = edge_df[\"FromNodeId\"].apply(int)\n",
    "edge_df[\"ToNodeId\"] = edge_df[\"ToNodeId\"].apply(int)\n",
    "edge_df[\"Sign\"] = edge_df[\"Sign\"].map({\"1\":1, \"-1\":0})"
   ]
  },
  {
   "cell_type": "code",
   "execution_count": null,
   "metadata": {},
   "outputs": [],
   "source": [
    "# undersampling with 1.5:1 ratio\n",
    "Sign0_df = edge_df[edge_df[\"Sign\"]==0]\n",
    "node_set = set(Sign0_df[\"ToNodeId\"])|set(Sign0_df[\"FromNodeId\"])\n",
    "choose_df = edge_df[edge_df[\"FromNodeId\"].isin(node_set)&edge_df[\"ToNodeId\"].isin(node_set)]\n",
    "\n",
    "ChooseSign0_df = choose_df[choose_df[\"Sign\"]==0]\n",
    "ChooseSign1_df = choose_df[choose_df[\"Sign\"]==1]\n",
    "ChooseSign1_df = ChooseSign1_df.sample(int(len(ChooseSign0_df)*1.5))\n",
    "choose_df = pd.concat([ChooseSign0_df, ChooseSign1_df]).sample(frac=1)"
   ]
  },
  {
   "cell_type": "code",
   "execution_count": null,
   "metadata": {},
   "outputs": [],
   "source": [
    "class IdEncoder:\n",
    "    def __init__(self, NodeName_set):\n",
    "        self.NodeId_dict = {\n",
    "            NodeName: idx for idx, NodeName in enumerate(sorted(NodeName_set))\n",
    "        }\n",
    "\n",
    "    def __len__(self):\n",
    "        return len(self.NodeId_dict)\n",
    "\n",
    "    @property\n",
    "    def NodeName_set(self):\n",
    "        return set(self.NodeId_dict.keys())\n",
    "\n",
    "    @property\n",
    "    def max_id(self):\n",
    "        return max(self.NodeId_dict.values())\n",
    "\n",
    "    @property\n",
    "    def IdNode_dict(self):\n",
    "        return {idx:NodeName for NodeName, idx in self.NodeId_dict.items()}\n",
    "\n",
    "    def node_to_id(self, node):\n",
    "        return self.NodeId_dict.get(node)\n",
    "\n",
    "    def id_to_node(self, id):\n",
    "        for NodeName, idx in self.NodeId_dict.items():\n",
    "            if idx==id: return NodeName\n",
    "        return None"
   ]
  },
  {
   "cell_type": "code",
   "execution_count": null,
   "metadata": {},
   "outputs": [],
   "source": [
    "# encode\n",
    "encode = IdEncoder(node_set)\n",
    "from_list = choose_df[\"FromNodeId\"].map(encode.NodeId_dict).tolist()\n",
    "to_list = choose_df[\"ToNodeId\"].map(encode.NodeId_dict).tolist()\n",
    "sign_list = choose_df[\"Sign\"].tolist()\n",
    "\n",
    "# get tensors from dataframe\n",
    "node_attr_ts = torch.ones(len(encode)).float().reshape(-1, 1)\n",
    "edge_index_ts = torch.tensor([from_list, to_list]).long()\n",
    "edge_label_ts = torch.tensor(sign_list).float().reshape(-1, 1)"
   ]
  },
  {
   "cell_type": "code",
   "execution_count": null,
   "metadata": {},
   "outputs": [],
   "source": [
    "from torch_geometric.data import Data\n",
    "\n",
    "data = Data(x=node_attr_ts, edge_index=edge_index_ts, edge_attr=edge_label_ts, edge_label=edge_label_ts)"
   ]
  },
  {
   "cell_type": "code",
   "execution_count": null,
   "metadata": {},
   "outputs": [],
   "source": [
    "from torch_geometric.transforms import RandomLinkSplit\n",
    "\n",
    "train_data, val_data, test_data = RandomLinkSplit(\n",
    "    num_val=0.1,\n",
    "    num_test=0.1,\n",
    "    is_undirected=False,\n",
    "    neg_sampling_ratio=0.0,\n",
    "    disjoint_train_ratio=0.2,\n",
    ")(data)"
   ]
  },
  {
   "cell_type": "code",
   "execution_count": null,
   "metadata": {},
   "outputs": [],
   "source": [
    "from torch_geometric.nn import GATv2Conv\n",
    "from torch_geometric.nn.dense import Linear\n",
    "\n",
    "class GATEncoder(torch.nn.Module):\n",
    "    def __init__(self, encoder_size):\n",
    "        super().__init__()\n",
    "\n",
    "        hidden_channels, out_channels = encoder_size\n",
    "        self.conv1 = GATv2Conv(\n",
    "            (-1, -1), hidden_channels, edge_dim=1, add_self_loops=False\n",
    "        )\n",
    "        self.lin1 = Linear(-1, hidden_channels)\n",
    "        self.conv2 = GATv2Conv(\n",
    "            (-1, -1), out_channels, edge_dim=1, add_self_loops=False\n",
    "        )\n",
    "        self.lin2 = Linear(-1, out_channels)\n",
    "        self.conv3 = GATv2Conv(\n",
    "            (-1, -1), out_channels, edge_dim=1, add_self_loops=False\n",
    "        )\n",
    "        self.lin3 = Linear(-1, out_channels)\n",
    "        self.conv4 = GATv2Conv(\n",
    "            (-1, -1), out_channels, edge_dim=1, add_self_loops=False\n",
    "        )\n",
    "        self.lin4 = Linear(-1, out_channels)\n",
    "\n",
    "    def forward(self, x, edge_index, edge_attr):\n",
    "        x = self.conv1(x, edge_index, edge_attr) + self.lin1(x)\n",
    "        x = x.relu()\n",
    "        x = self.conv2(x, edge_index, edge_attr) + self.lin2(x)\n",
    "        x = x.relu()\n",
    "        x = self.conv3(x, edge_index, edge_attr) + self.lin3(x)\n",
    "        x = x.relu()\n",
    "        x = self.conv4(x, edge_index, edge_attr) + self.lin4(x)\n",
    "        x = x.relu()\n",
    "        return x\n",
    "\n",
    "class EdgeDecoder(torch.nn.Module):\n",
    "\n",
    "    def __init__(self, decoder_size):\n",
    "        super().__init__()\n",
    "        hidden_channels = decoder_size\n",
    "        self.lin1 = Linear(-1, hidden_channels)\n",
    "        self.lin2 = Linear(-1, 1)\n",
    "\n",
    "    def forward(self, NodeConvH_ts, edge_label_index):\n",
    "        from_ts, to_ts = edge_label_index\n",
    "        NodeH_ts = torch.cat([NodeConvH_ts[from_ts], NodeConvH_ts[to_ts]], dim=-1)\n",
    "        x = self.lin1(NodeH_ts).relu()\n",
    "        x = self.lin2(x).sigmoid()\n",
    "        return x\n",
    "\n",
    "class GNN(torch.nn.Module):\n",
    "    def __init__(self, encoder_size, decoder_size):\n",
    "        super().__init__()\n",
    "        self.encoder = GATEncoder(encoder_size)\n",
    "        self.decoder = EdgeDecoder(decoder_size)\n",
    "\n",
    "    def forward(self, x, edge_index, edge_attr, edge_label_index):\n",
    "        NodeConvH_ts = self.encoder(x, edge_index, edge_attr)\n",
    "        return self.decoder(NodeConvH_ts, edge_label_index)"
   ]
  },
  {
   "cell_type": "code",
   "execution_count": null,
   "metadata": {},
   "outputs": [
    {
     "name": "stdout",
     "output_type": "stream",
     "text": [
      "Epoch: 000, Loss: 0.7062, val_Loss: 0.7004\n",
      "Epoch: 001, Loss: 0.7006, val_Loss: 0.6976\n",
      "Epoch: 002, Loss: 0.6977, val_Loss: 0.6951\n",
      "Epoch: 003, Loss: 0.6952, val_Loss: 0.6927\n",
      "Epoch: 004, Loss: 0.6928, val_Loss: 0.6903\n",
      "Epoch: 005, Loss: 0.6904, val_Loss: 0.6880\n",
      "Epoch: 006, Loss: 0.6881, val_Loss: 0.6858\n",
      "Epoch: 007, Loss: 0.6859, val_Loss: 0.6837\n",
      "Epoch: 008, Loss: 0.6837, val_Loss: 0.6817\n",
      "Epoch: 009, Loss: 0.6817, val_Loss: 0.6797\n",
      "Epoch: 010, Loss: 0.6797, val_Loss: 0.6779\n",
      "Epoch: 011, Loss: 0.6778, val_Loss: 0.6761\n",
      "Epoch: 012, Loss: 0.6760, val_Loss: 0.6744\n",
      "Epoch: 013, Loss: 0.6743, val_Loss: 0.6729\n",
      "Epoch: 014, Loss: 0.6727, val_Loss: 0.6714\n",
      "Epoch: 015, Loss: 0.6711, val_Loss: 0.6699\n",
      "Epoch: 016, Loss: 0.6697, val_Loss: 0.6686\n",
      "Epoch: 017, Loss: 0.6683, val_Loss: 0.6674\n",
      "Epoch: 018, Loss: 0.6670, val_Loss: 0.6663\n",
      "Epoch: 019, Loss: 0.6659, val_Loss: 0.6652\n"
     ]
    },
    {
     "data": {
      "image/png": "[encoded data removed]",
      "text/plain": [
       "<Figure size 640x480 with 1 Axes>"
      ]
     },
     "metadata": {},
     "output_type": "display_data"
    }
   ],
   "source": [
    "from EarlyStopping import EarlyStopping\n",
    "import matplotlib.pyplot as plt\n",
    "\n",
    "def get_pred(data, model):\n",
    "    return model(\n",
    "        x=data.x,\n",
    "        edge_index=data.edge_index,\n",
    "        edge_attr=data.edge_attr,\n",
    "        edge_label_index=data.edge_label_index\n",
    "    )\n",
    "\n",
    "@torch.no_grad()\n",
    "def get_pred_no_grad(data, model):\n",
    "    return model(\n",
    "        x=data.x,\n",
    "        edge_index=data.edge_index,\n",
    "        edge_attr=data.edge_attr,\n",
    "        edge_label_index=data.edge_label_index\n",
    "    )\n",
    "\n",
    "@torch.no_grad()\n",
    "def get_loss_in_eval(data, model):\n",
    "    model.eval()\n",
    "    pred = get_pred_no_grad(data, model)\n",
    "    target = data.edge_label.reshape(-1, 1)\n",
    "    loss = torch.nn.functional.binary_cross_entropy(pred, target)\n",
    "    return loss\n",
    "\n",
    "def get_loss(data, model):\n",
    "    pred = get_pred(data, model)\n",
    "    target = data.edge_label.reshape(-1, 1)\n",
    "    loss = torch.nn.functional.binary_cross_entropy(pred, target)\n",
    "    return loss\n",
    "\n",
    "model = GNN((4, 6), 12)\n",
    "optimizer = torch.optim.Adam(model.parameters(), lr=0.01, weight_decay=1e-3)\n",
    "scheduler = torch.optim.lr_scheduler.ReduceLROnPlateau(optimizer, 'min')\n",
    "early_stopping = EarlyStopping(patience=30, verbose=False)\n",
    "\n",
    "trainLoss_list = []\n",
    "valLoss_list = []\n",
    "\n",
    "for epoch in range(0, 20):\n",
    "    model.train()\n",
    "    optimizer.zero_grad()\n",
    "\n",
    "    train_loss = get_loss(train_data, model)\n",
    "    train_loss.backward()\n",
    "\n",
    "    optimizer.step()\n",
    "    scheduler.step(train_loss)\n",
    "\n",
    "    val_loss = get_loss_in_eval(val_data, model)\n",
    "\n",
    "    trainLoss_list.append(train_loss.detach().numpy())\n",
    "    valLoss_list.append(val_loss.detach().numpy())\n",
    "\n",
    "    early_stopping(val_loss, model)\n",
    "\n",
    "    if early_stopping.early_stop:\n",
    "        print(\"Early stopping\")\n",
    "        break\n",
    "\n",
    "    print(f'Epoch: {epoch:03d}, Loss: {train_loss:.4f}, val_Loss: {val_loss:.4f}')\n",
    "\n",
    "plt.plot(trainLoss_list, label='train')\n",
    "plt.plot(valLoss_list, label='val')\n",
    "plt.legend()\n",
    "plt.show()"
   ]
  },
  {
   "cell_type": "code",
   "execution_count": 49,
   "metadata": {},
   "outputs": [
    {
     "data": {
      "text/plain": [
       "tensor(0.6644)"
      ]
     },
     "execution_count": 49,
     "metadata": {},
     "output_type": "execute_result"
    }
   ],
   "source": [
    "model = GNN((4, 6), 12)\n",
    "model.load_state_dict(torch.load(\"checkpoint.pt\"))\n",
    "model.eval()\n",
    "test_pred = get_pred_no_grad(test_data, model)\n",
    "test_label = test_data.edge_label.reshape(-1, 1)\n",
    "test_loss = get_loss_in_eval(test_data, model)\n",
    "test_loss"
   ]
  }
 ],
 "metadata": {
  "kernelspec": {
   "display_name": "base",
   "language": "python",
   "name": "python3"
  },
  "language_info": {
   "codemirror_mode": {
    "name": "ipython",
    "version": 3
   },
   "file_extension": ".py",
   "mimetype": "text/x-python",
   "name": "python",
   "nbconvert_exporter": "python",
   "pygments_lexer": "ipython3",
   "version": "3.11.4"
  }
 },
 "nbformat": 4,
 "nbformat_minor": 2
}
